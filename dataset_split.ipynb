{
 "cells": [
  {
   "cell_type": "code",
   "execution_count": 1,
   "metadata": {},
   "outputs": [],
   "source": [
    "from my.tools import *\n",
    "from my.paths import *\n"
   ]
  },
  {
   "cell_type": "code",
   "execution_count": 2,
   "metadata": {},
   "outputs": [],
   "source": [
    "dataset = path_info(dataset_path)"
   ]
  },
  {
   "cell_type": "code",
   "execution_count": 16,
   "metadata": {},
   "outputs": [],
   "source": [
    "train_dataset = dataset.sample(int(len(dataset)*0.8))"
   ]
  },
  {
   "cell_type": "code",
   "execution_count": 17,
   "metadata": {},
   "outputs": [],
   "source": [
    "valid_dataset = dataset[~dataset.index.isin(train_dataset.index)]"
   ]
  },
  {
   "cell_type": "code",
   "execution_count": 18,
   "metadata": {},
   "outputs": [
    {
     "name": "stderr",
     "output_type": "stream",
     "text": [
      "/tmp/ipykernel_2984302/3826815448.py:2: SettingWithCopyWarning: \n",
      "A value is trying to be set on a copy of a slice from a DataFrame.\n",
      "Try using .loc[row_indexer,col_indexer] = value instead\n",
      "\n",
      "See the caveats in the documentation: https://pandas.pydata.org/pandas-docs/stable/user_guide/indexing.html#returning-a-view-versus-a-copy\n",
      "  valid_dataset['valid'] = True\n"
     ]
    }
   ],
   "source": [
    "train_dataset['valid'] = False\n",
    "valid_dataset['valid'] = True"
   ]
  },
  {
   "cell_type": "code",
   "execution_count": 21,
   "metadata": {},
   "outputs": [
    {
     "name": "stderr",
     "output_type": "stream",
     "text": [
      "/tmp/ipykernel_2984302/1158304768.py:1: FutureWarning: The frame.append method is deprecated and will be removed from pandas in a future version. Use pandas.concat instead.\n",
      "  dataset = train_dataset.append(valid_dataset).sort_index()\n"
     ]
    }
   ],
   "source": [
    "dataset = train_dataset.append(valid_dataset).sort_index()"
   ]
  },
  {
   "cell_type": "code",
   "execution_count": 23,
   "metadata": {},
   "outputs": [],
   "source": [
    "(dataset_path/'imgs').mkdir()"
   ]
  },
  {
   "cell_type": "code",
   "execution_count": 25,
   "metadata": {},
   "outputs": [],
   "source": [
    "train_path = (dataset_path/'imgs/train')\n",
    "valid_path = (dataset_path/'imgs/val')"
   ]
  },
  {
   "cell_type": "code",
   "execution_count": 28,
   "metadata": {},
   "outputs": [
    {
     "data": {
      "text/plain": [
       "0          /home/dima/glovo_dataset/photos/imgs/train/PMJ...\n",
       "1          /home/dima/glovo_dataset/photos/imgs/train/CGB...\n",
       "2          /home/dima/glovo_dataset/photos/imgs/train/GYC...\n",
       "3          /home/dima/glovo_dataset/photos/imgs/train/JXF...\n",
       "4          /home/dima/glovo_dataset/photos/imgs/train/NYS...\n",
       "                                 ...                        \n",
       "1594813    /home/dima/glovo_dataset/photos/imgs/train/CCT...\n",
       "1594814    /home/dima/glovo_dataset/photos/imgs/train/HMY...\n",
       "1594815    /home/dima/glovo_dataset/photos/imgs/train/RSD...\n",
       "1594817    /home/dima/glovo_dataset/photos/imgs/train/VJT...\n",
       "1594818    /home/dima/glovo_dataset/photos/imgs/train/XMH...\n",
       "Name: path, Length: 1275855, dtype: object"
      ]
     },
     "execution_count": 28,
     "metadata": {},
     "output_type": "execute_result"
    }
   ],
   "source": [
    "dataset[~dataset['valid']]['path'].apply(lambda p:p.rename(train_path/p.name))"
   ]
  },
  {
   "cell_type": "code",
   "execution_count": 29,
   "metadata": {},
   "outputs": [
    {
     "data": {
      "text/plain": [
       "7          /home/dima/glovo_dataset/photos/imgs/val/YJWRK...\n",
       "15         /home/dima/glovo_dataset/photos/imgs/val/VJTTJ...\n",
       "19         /home/dima/glovo_dataset/photos/imgs/val/VJTTJ...\n",
       "24         /home/dima/glovo_dataset/photos/imgs/val/FRDXW...\n",
       "36         /home/dima/glovo_dataset/photos/imgs/val/XJCHF...\n",
       "                                 ...                        \n",
       "1594805    /home/dima/glovo_dataset/photos/imgs/val/WFYFY...\n",
       "1594807    /home/dima/glovo_dataset/photos/imgs/val/FNNKM...\n",
       "1594811    /home/dima/glovo_dataset/photos/imgs/val/RSDQD...\n",
       "1594812    /home/dima/glovo_dataset/photos/imgs/val/NZTCK...\n",
       "1594816    /home/dima/glovo_dataset/photos/imgs/val/BBYJK...\n",
       "Name: path, Length: 318964, dtype: object"
      ]
     },
     "execution_count": 29,
     "metadata": {},
     "output_type": "execute_result"
    }
   ],
   "source": [
    "dataset[dataset['valid']]['path'].apply(lambda p:p.rename(valid_path/p.name))"
   ]
  },
  {
   "cell_type": "code",
   "execution_count": null,
   "metadata": {},
   "outputs": [],
   "source": []
  }
 ],
 "metadata": {
  "kernelspec": {
   "display_name": "stego",
   "language": "python",
   "name": "stego"
  },
  "language_info": {
   "codemirror_mode": {
    "name": "ipython",
    "version": 3
   },
   "file_extension": ".py",
   "mimetype": "text/x-python",
   "name": "python",
   "nbconvert_exporter": "python",
   "pygments_lexer": "ipython3",
   "version": "3.9.12"
  },
  "orig_nbformat": 4,
  "vscode": {
   "interpreter": {
    "hash": "0a9f264364cdcfbc98898b191f823f39355d5d9c43958159ca6be3bbd268da87"
   }
  }
 },
 "nbformat": 4,
 "nbformat_minor": 2
}
